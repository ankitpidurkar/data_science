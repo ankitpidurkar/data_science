{
 "cells": [
  {
   "cell_type": "code",
   "execution_count": 17,
   "id": "eee91266",
   "metadata": {},
   "outputs": [
    {
     "name": "stdout",
     "output_type": "stream",
     "text": [
      "This is python class 1701059628848\n",
      "T 1700984669744\n",
      "s 1700979242352\n",
      "s 1700979242352\n"
     ]
    }
   ],
   "source": [
    "my_str = 'This is python class'\n",
    "new_str = my_str.replace('P', 'J')\n",
    "\n",
    "print(my_str, id(my_str))\n",
    "print(my_str[0], id(my_str[0]))\n",
    "print(my_str[-1], id(my_str[-1]))\n",
    "print(my_str[-2], id(my_str[-2]))"
   ]
  },
  {
   "cell_type": "code",
   "execution_count": 5,
   "id": "daa481e8",
   "metadata": {},
   "outputs": [
    {
     "name": "stdout",
     "output_type": "stream",
     "text": [
      "s 1700979242352\n"
     ]
    }
   ],
   "source": [
    "print(my_str[+3], id(my_str[+3]))"
   ]
  },
  {
   "cell_type": "code",
   "execution_count": 6,
   "id": "13e801c9",
   "metadata": {},
   "outputs": [
    {
     "name": "stdout",
     "output_type": "stream",
     "text": [
      "python\n"
     ]
    }
   ],
   "source": [
    "print(my_str[8:14:1])"
   ]
  },
  {
   "cell_type": "code",
   "execution_count": 7,
   "id": "900d5176",
   "metadata": {},
   "outputs": [
    {
     "name": "stdout",
     "output_type": "stream",
     "text": [
      "pto\n"
     ]
    }
   ],
   "source": [
    "print(my_str[8:14:2])"
   ]
  },
  {
   "cell_type": "code",
   "execution_count": 8,
   "id": "fe116af5",
   "metadata": {},
   "outputs": [
    {
     "name": "stdout",
     "output_type": "stream",
     "text": [
      "ph\n"
     ]
    }
   ],
   "source": [
    "print(my_str[8:14:3])"
   ]
  },
  {
   "cell_type": "code",
   "execution_count": 11,
   "id": "cade84ec",
   "metadata": {},
   "outputs": [
    {
     "name": "stdout",
     "output_type": "stream",
     "text": [
      "nohtyp \n"
     ]
    }
   ],
   "source": [
    "print(my_str[-7:-14:-1])"
   ]
  },
  {
   "cell_type": "code",
   "execution_count": 12,
   "id": "67565d22",
   "metadata": {},
   "outputs": [
    {
     "name": "stdout",
     "output_type": "stream",
     "text": [
      "nt\n"
     ]
    }
   ],
   "source": [
    "print(my_str[-7:-13:-3])"
   ]
  },
  {
   "cell_type": "code",
   "execution_count": 14,
   "id": "16e5fefa",
   "metadata": {},
   "outputs": [
    {
     "name": "stdout",
     "output_type": "stream",
     "text": [
      "\n"
     ]
    }
   ],
   "source": [
    "print(my_str[-12:-6:-1])"
   ]
  },
  {
   "cell_type": "code",
   "execution_count": 15,
   "id": "09f3d4de",
   "metadata": {},
   "outputs": [
    {
     "name": "stdout",
     "output_type": "stream",
     "text": [
      "p\n"
     ]
    }
   ],
   "source": [
    "print(my_str[-12:-11])"
   ]
  },
  {
   "cell_type": "code",
   "execution_count": 16,
   "id": "6c3dccfd",
   "metadata": {},
   "outputs": [],
   "source": [
    "new_str = my_str.replace('P', 'J')"
   ]
  },
  {
   "cell_type": "code",
   "execution_count": 20,
   "id": "d69a03d9",
   "metadata": {},
   "outputs": [
    {
     "name": "stdout",
     "output_type": "stream",
     "text": [
      "This is Python class\n",
      "This is Jython class\n"
     ]
    }
   ],
   "source": [
    "my_str='This is Python class'\n",
    "print(my_str)\n",
    "new_str = my_str.replace('P', 'J')\n",
    "print(new_str)"
   ]
  },
  {
   "cell_type": "code",
   "execution_count": 21,
   "id": "60782d13",
   "metadata": {},
   "outputs": [
    {
     "name": "stdout",
     "output_type": "stream",
     "text": [
      "['__add__', '__class__', '__contains__', '__delattr__', '__dir__', '__doc__', '__eq__', '__format__', '__ge__', '__getattribute__', '__getitem__', '__getnewargs__', '__gt__', '__hash__', '__init__', '__init_subclass__', '__iter__', '__le__', '__len__', '__lt__', '__mod__', '__mul__', '__ne__', '__new__', '__reduce__', '__reduce_ex__', '__repr__', '__rmod__', '__rmul__', '__setattr__', '__sizeof__', '__str__', '__subclasshook__', 'capitalize', 'casefold', 'center', 'count', 'encode', 'endswith', 'expandtabs', 'find', 'format', 'format_map', 'index', 'isalnum', 'isalpha', 'isascii', 'isdecimal', 'isdigit', 'isidentifier', 'islower', 'isnumeric', 'isprintable', 'isspace', 'istitle', 'isupper', 'join', 'ljust', 'lower', 'lstrip', 'maketrans', 'partition', 'removeprefix', 'removesuffix', 'replace', 'rfind', 'rindex', 'rjust', 'rpartition', 'rsplit', 'rstrip', 'split', 'splitlines', 'startswith', 'strip', 'swapcase', 'title', 'translate', 'upper', 'zfill']\n"
     ]
    }
   ],
   "source": [
    "print(dir(str))"
   ]
  },
  {
   "cell_type": "code",
   "execution_count": 23,
   "id": "f83e7bf2",
   "metadata": {},
   "outputs": [
    {
     "name": "stdout",
     "output_type": "stream",
     "text": [
      "This is python class \n"
     ]
    }
   ],
   "source": [
    "my_str = 'this is Python class '\n",
    "print(my_str.capitalize())"
   ]
  },
  {
   "cell_type": "code",
   "execution_count": 25,
   "id": "8bf66f83",
   "metadata": {},
   "outputs": [
    {
     "name": "stdout",
     "output_type": "stream",
     "text": [
      "This Is Python Class \n"
     ]
    }
   ],
   "source": [
    "print(my_str.title())"
   ]
  },
  {
   "cell_type": "code",
   "execution_count": 26,
   "id": "53bca9d4",
   "metadata": {},
   "outputs": [
    {
     "name": "stdout",
     "output_type": "stream",
     "text": [
      "THIS IS PYTHON CLASS \n"
     ]
    }
   ],
   "source": [
    "print(my_str.upper())"
   ]
  },
  {
   "cell_type": "code",
   "execution_count": 27,
   "id": "f3fd345b",
   "metadata": {},
   "outputs": [
    {
     "name": "stdout",
     "output_type": "stream",
     "text": [
      "this is python class \n"
     ]
    }
   ],
   "source": [
    "print(my_str.lower())"
   ]
  },
  {
   "cell_type": "code",
   "execution_count": 28,
   "id": "5767ba4e",
   "metadata": {},
   "outputs": [
    {
     "name": "stdout",
     "output_type": "stream",
     "text": [
      "THIS IS pYTHON CLASS \n"
     ]
    }
   ],
   "source": [
    "print(my_str.swapcase())"
   ]
  },
  {
   "cell_type": "code",
   "execution_count": 32,
   "id": "bd43bbcb",
   "metadata": {},
   "outputs": [
    {
     "name": "stdout",
     "output_type": "stream",
     "text": [
      "H\n"
     ]
    }
   ],
   "source": [
    "print(my_str[1].title())"
   ]
  },
  {
   "cell_type": "markdown",
   "id": "082019ce",
   "metadata": {},
   "source": [
    "### print(dir('isalnum'))"
   ]
  },
  {
   "cell_type": "code",
   "execution_count": 33,
   "id": "6b168c4d",
   "metadata": {},
   "outputs": [
    {
     "name": "stdout",
     "output_type": "stream",
     "text": [
      "['__add__', '__class__', '__contains__', '__delattr__', '__dir__', '__doc__', '__eq__', '__format__', '__ge__', '__getattribute__', '__getitem__', '__getnewargs__', '__gt__', '__hash__', '__init__', '__init_subclass__', '__iter__', '__le__', '__len__', '__lt__', '__mod__', '__mul__', '__ne__', '__new__', '__reduce__', '__reduce_ex__', '__repr__', '__rmod__', '__rmul__', '__setattr__', '__sizeof__', '__str__', '__subclasshook__', 'capitalize', 'casefold', 'center', 'count', 'encode', 'endswith', 'expandtabs', 'find', 'format', 'format_map', 'index', 'isalnum', 'isalpha', 'isascii', 'isdecimal', 'isdigit', 'isidentifier', 'islower', 'isnumeric', 'isprintable', 'isspace', 'istitle', 'isupper', 'join', 'ljust', 'lower', 'lstrip', 'maketrans', 'partition', 'removeprefix', 'removesuffix', 'replace', 'rfind', 'rindex', 'rjust', 'rpartition', 'rsplit', 'rstrip', 'split', 'splitlines', 'startswith', 'strip', 'swapcase', 'title', 'translate', 'upper', 'zfill']\n"
     ]
    }
   ],
   "source": [
    "print(dir('isalnum'))"
   ]
  },
  {
   "cell_type": "code",
   "execution_count": null,
   "id": "8a2cb267",
   "metadata": {},
   "outputs": [],
   "source": [
    "#'isalnum', 'isalpha', 'isascii', 'isdecimal', 'isdigit', 'isidentifier', 'islower', \n",
    "#'isnumeric', 'isprintable', 'isspace', 'istitle', 'isupper'"
   ]
  },
  {
   "cell_type": "code",
   "execution_count": 34,
   "id": "34750569",
   "metadata": {},
   "outputs": [
    {
     "name": "stdout",
     "output_type": "stream",
     "text": [
      "False\n"
     ]
    }
   ],
   "source": [
    "my_str = 'This is Python class 1'\n",
    "print(my_str.isalnum())\n"
   ]
  },
  {
   "cell_type": "code",
   "execution_count": 36,
   "id": "953fc738",
   "metadata": {},
   "outputs": [
    {
     "name": "stdout",
     "output_type": "stream",
     "text": [
      "True\n"
     ]
    }
   ],
   "source": [
    "print('23'.isdecimal())"
   ]
  },
  {
   "cell_type": "code",
   "execution_count": 37,
   "id": "ecba7425",
   "metadata": {},
   "outputs": [
    {
     "name": "stdout",
     "output_type": "stream",
     "text": [
      "True\n"
     ]
    }
   ],
   "source": [
    "print('num'.isidentifier())\n"
   ]
  },
  {
   "cell_type": "code",
   "execution_count": 38,
   "id": "422b36d4",
   "metadata": {},
   "outputs": [
    {
     "name": "stdout",
     "output_type": "stream",
     "text": [
      "True\n"
     ]
    }
   ],
   "source": [
    "print('for'.isidentifier())"
   ]
  },
  {
   "cell_type": "code",
   "execution_count": 39,
   "id": "ddba0ea5",
   "metadata": {},
   "outputs": [
    {
     "name": "stdout",
     "output_type": "stream",
     "text": [
      "True\n"
     ]
    }
   ],
   "source": [
    "import keyword\n",
    "print(keyword.iskeyword('for'))"
   ]
  },
  {
   "cell_type": "code",
   "execution_count": null,
   "id": "dfafe416",
   "metadata": {},
   "outputs": [],
   "source": []
  }
 ],
 "metadata": {
  "kernelspec": {
   "display_name": "Python 3 (ipykernel)",
   "language": "python",
   "name": "python3"
  },
  "language_info": {
   "codemirror_mode": {
    "name": "ipython",
    "version": 3
   },
   "file_extension": ".py",
   "mimetype": "text/x-python",
   "name": "python",
   "nbconvert_exporter": "python",
   "pygments_lexer": "ipython3",
   "version": "3.9.7"
  }
 },
 "nbformat": 4,
 "nbformat_minor": 5
}
